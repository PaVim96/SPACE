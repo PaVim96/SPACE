{
 "cells": [
  {
   "cell_type": "code",
   "execution_count": 1,
   "id": "arbitrary-papua",
   "metadata": {},
   "outputs": [],
   "source": [
    "import matplotlib.pyplot as plt\n",
    "import sys\n",
    "import numpy as np\n",
    "\n",
    "from engine.utils import get_config\n",
    "from engine.train import train\n",
    "from engine.eval import eval\n",
    "from engine.show import show\n",
    "\n",
    "%matplotlib inline"
   ]
  },
  {
   "cell_type": "code",
   "execution_count": 4,
   "id": "technological-configuration",
   "metadata": {},
   "outputs": [],
   "source": [
    "\"\"\"\n",
    "Just for jupyter notebook\n",
    "\"\"\"\n",
    "import os\n",
    "import argparse\n",
    "from argparse import ArgumentParser\n",
    "from config import cfg\n",
    "\n",
    "def get_config():\n",
    "    parser = ArgumentParser()\n",
    "    parser.add_argument(\n",
    "        '--task',\n",
    "        type=str,\n",
    "        default='train',\n",
    "        metavar='TASK',\n",
    "        help='What to do. See engine'\n",
    "    )\n",
    "    parser.add_argument(\n",
    "        '--config-file',\n",
    "        type=str,\n",
    "        default='',\n",
    "        metavar='FILE',\n",
    "        help='Path to config file'\n",
    "    )\n",
    "    \n",
    "    parser.add_argument(\n",
    "        'opts',\n",
    "        help='Modify config options using the command line',\n",
    "        default=None,\n",
    "        nargs=argparse.REMAINDER\n",
    "    )\n",
    "    args = parser.parse_args('')\n",
    "    \n",
    "    args.task = \"eval\"\n",
    "    args.config_file = \"configs/atari_joint.yaml\"\n",
    "    args.opts = ['resume', True, 'resume_ckpt', '../pretrained/atari_joint.pth', 'device', 'cpu']\n",
    "    \n",
    "    if args.config_file:\n",
    "        cfg.merge_from_file(args.config_file)\n",
    "    if args.opts:\n",
    "        cfg.merge_from_list(args.opts)\n",
    "    \n",
    "    # Use config file name as the default experiment name\n",
    "    if cfg.exp_name == '':\n",
    "        if args.config_file:\n",
    "            cfg.exp_name = os.path.splitext(os.path.basename(args.config_file))[0]\n",
    "        else:\n",
    "            raise ValueError('exp_name cannot be empty without specifying a config file')\n",
    "        \n",
    "    # Seed\n",
    "    import torch\n",
    "    torch.manual_seed(cfg.seed)\n",
    "    torch.backends.cudnn.deterministic = True\n",
    "    torch.backends.cudnn.benchmark = False\n",
    "    import numpy as np\n",
    "    np.random.seed(cfg.seed)\n",
    "    \n",
    "    return cfg, args.task\n",
    "\n",
    "\n",
    "cfg, task = get_config()"
   ]
  },
  {
   "cell_type": "code",
   "execution_count": 5,
   "id": "genetic-battery",
   "metadata": {},
   "outputs": [],
   "source": [
    "from model import get_model\n",
    "from vis import get_vislogger\n",
    "from dataset import get_dataset, get_dataloader\n",
    "from utils import Checkpointer\n",
    "import os\n",
    "import os.path as osp\n",
    "from torch import nn\n",
    "from torch.utils.data import Subset, DataLoader\n",
    "\n",
    "BATCH_SIZE=1"
   ]
  },
  {
   "cell_type": "code",
   "execution_count": 26,
   "id": "attended-namibia",
   "metadata": {},
   "outputs": [
    {
     "name": "stdout",
     "output_type": "stream",
     "text": [
      "Loading checkpoint from ../pretrained/atari_spaceinvaders.pth...\n",
      "Checkpoint loaded.\n"
     ]
    }
   ],
   "source": [
    "model = get_model(cfg)\n",
    "model = model.to(cfg.device)\n",
    "model.eval()\n",
    "checkpointer = Checkpointer(osp.join(cfg.checkpointdir, cfg.exp_name), max_num=cfg.train.max_ckpt)\n",
    "use_cpu = 'cpu' in cfg.device\n",
    "if cfg.resume_ckpt:\n",
    "    checkpoint = checkpointer.load(cfg.resume_ckpt, model, None, None, use_cpu=use_cpu)\n",
    "\n",
    "dataset = get_dataset(cfg, cfg.show.mode)\n",
    "dataloader = DataLoader(dataset, batch_size=BATCH_SIZE, num_workers=0, shuffle=False)"
   ]
  },
  {
   "cell_type": "code",
   "execution_count": 27,
   "id": "treated-mambo",
   "metadata": {},
   "outputs": [],
   "source": [
    "# for i, imgs in enumerate(dataloader):\n",
    "imgs = next(iter(dataloader))\n",
    "imgs = imgs.to(cfg.device)"
   ]
  },
  {
   "cell_type": "code",
   "execution_count": 28,
   "id": "commercial-penny",
   "metadata": {},
   "outputs": [],
   "source": [
    "# TODO: treat global_step in a more elegant way\n",
    "loss, log = model(imgs, global_step=100000000)"
   ]
  },
  {
   "cell_type": "code",
   "execution_count": 28,
   "id": "front-study",
   "metadata": {},
   "outputs": [
    {
     "name": "stdout",
     "output_type": "stream",
     "text": [
      "dict_keys(['imgs', 'y', 'mse', 'log_like', 'fg', 'z_what', 'z_where', 'z_pres', 'z_scale', 'z_shift', 'z_depth', 'z_pres_prob', 'prior_z_pres_prob', 'o_att', 'alpha_att_hat', 'alpha_att', 'alpha_map', 'boundary_loss', 'boundary_map', 'importance_map_full_res_norm', 'kl_z_what', 'kl_z_pres', 'kl_z_scale', 'kl_z_shift', 'kl_z_depth', 'kl_z_where', 'comps', 'masks', 'bg', 'kl_bg'])\n"
     ]
    }
   ],
   "source": [
    "print(log.keys())"
   ]
  },
  {
   "cell_type": "code",
   "execution_count": 32,
   "id": "protective-rebecca",
   "metadata": {},
   "outputs": [],
   "source": [
    "# (B, N, 4), (B, N, 1), (B, N, D)\n",
    "z_where, z_pres_prob, z_what = log['z_where'], log['z_pres_prob'], log['z_what']\n",
    "# (B, N, 4), (B, N), (B, N)\n",
    "z_where = z_where.detach().cpu()\n",
    "\n",
    "z_pres_prob = z_pres_prob.detach().cpu().squeeze()\n",
    "# TODO: look at this\n",
    "z_pres = z_pres_prob > 0.5\n",
    "\n",
    "z_what_pres = z_what[z_pres.unsqueeze(0)]"
   ]
  },
  {
   "cell_type": "code",
   "execution_count": null,
   "id": "hollywood-chapel",
   "metadata": {},
   "outputs": [],
   "source": [
    "# How to concert the z_where to true x, y positions (here in bounding boxes)\n",
    "# see convert_to_boxes for more info:\n",
    "# boxes_batch = convert_to_boxes(z_where, z_pres, z_pres_prob)\n",
    "\n",
    "from .ap import read_boxes, convert_to_boxes, compute_ap, compute_counts\n",
    "\n",
    "boxes_batch = convert_to_boxes(z_where, z_pres, z_pres_prob)\n",
    "\n",
    "# each (B, N, 1)\n",
    "# width, height, center_x, center_y = torch.split(z_where, 1, dim=-1)\n",
    "# center_x = (center_x + 1.0) / 2.0\n",
    "# center_y = (center_y + 1.0) / 2.0\n",
    "# x_min = center_x - width / 2\n",
    "# x_max = center_x + width / 2\n",
    "# y_min = center_y - height / 2\n",
    "# y_max = center_y + height / 2\n",
    "\n",
    "# # (B, N, 4)\n",
    "# pos = torch.cat([y_min, y_max, x_min, x_max], dim=-1)"
   ]
  },
  {
   "cell_type": "markdown",
   "id": "confused-charter",
   "metadata": {},
   "source": [
    "### TSNE"
   ]
  },
  {
   "cell_type": "code",
   "execution_count": 33,
   "id": "tested-bicycle",
   "metadata": {},
   "outputs": [],
   "source": [
    "from sklearn.manifold import TSNE\n",
    "z_what_pres_emb = TSNE(n_components=2).fit_transform(z_what_pres.detach().cpu().numpy())"
   ]
  },
  {
   "cell_type": "code",
   "execution_count": 34,
   "id": "likely-national",
   "metadata": {},
   "outputs": [
    {
     "data": {
      "image/png": "[encoded data removed]",
      "text/plain": [
       "<Figure size 432x288 with 1 Axes>"
      ]
     },
     "metadata": {
      "needs_background": "light"
     },
     "output_type": "display_data"
    }
   ],
   "source": [
    "fig, ax = plt.subplots(1, 1)\n",
    "ax.scatter(z_what_pres_emb[:, 0], z_what_pres_emb[:, 1])\n",
    "plt.show()"
   ]
  },
  {
   "cell_type": "markdown",
   "id": "bigger-comment",
   "metadata": {},
   "source": [
    "### PCA"
   ]
  },
  {
   "cell_type": "code",
   "execution_count": 35,
   "id": "relative-trailer",
   "metadata": {},
   "outputs": [],
   "source": [
    "from sklearn.decomposition import PCA\n",
    "pca = PCA(n_components=2)\n",
    "z_what_pres_emb = pca.fit_transform(z_what_pres.detach().cpu().numpy())"
   ]
  },
  {
   "cell_type": "code",
   "execution_count": 36,
   "id": "overhead-bidder",
   "metadata": {},
   "outputs": [
    {
     "data": {
      "image/png": "[encoded data removed]",
      "text/plain": [
       "<Figure size 432x288 with 1 Axes>"
      ]
     },
     "metadata": {
      "needs_background": "light"
     },
     "output_type": "display_data"
    }
   ],
   "source": [
    "fig, ax = plt.subplots(1, 1)\n",
    "ax.scatter(z_what_pres_emb[:, 0], z_what_pres_emb[:, 1])\n",
    "plt.show()"
   ]
  },
  {
   "cell_type": "markdown",
   "id": "suspended-lyric",
   "metadata": {},
   "source": [
    "### Input Images"
   ]
  },
  {
   "cell_type": "code",
   "execution_count": 37,
   "id": "incomplete-procedure",
   "metadata": {},
   "outputs": [
    {
     "data": {
      "image/png": "[encoded data removed]",
      "text/plain": [
       "<Figure size 432x288 with 1 Axes>"
      ]
     },
     "metadata": {
      "needs_background": "light"
     },
     "output_type": "display_data"
    }
   ],
   "source": [
    "fig, ax = plt.subplots(1, 1)\n",
    "ax.imshow(np.moveaxis(imgs[0].detach().cpu().numpy(), (0, 1, 2), (2, 0, 1)))\n",
    "plt.show()\n",
    "\n",
    "# fig, ax = plt.subplots(1, 1)\n",
    "# ax.imshow(np.moveaxis(imgs[1].detach().cpu().numpy(), (0, 1, 2), (2, 0, 1)))\n",
    "# plt.show()\n",
    "\n",
    "# fig, ax = plt.subplots(1, 1)\n",
    "# ax.imshow(np.moveaxis(imgs[2].detach().cpu().numpy(), (0, 1, 2), (2, 0, 1)))\n",
    "# plt.show()\n",
    "\n",
    "# fig, ax = plt.subplots(1, 1)\n",
    "# ax.imshow(np.moveaxis(imgs[3].detach().cpu().numpy(), (0, 1, 2), (2, 0, 1)))\n",
    "# plt.show()\n",
    "\n",
    "# fig, ax = plt.subplots(1, 1)\n",
    "# ax.imshow(np.moveaxis(imgs[4].detach().cpu().numpy(), (0, 1, 2), (2, 0, 1)))\n",
    "# plt.show()"
   ]
  },
  {
   "cell_type": "markdown",
   "id": "parliamentary-recognition",
   "metadata": {},
   "source": [
    "### Pairwise Distances"
   ]
  },
  {
   "cell_type": "code",
   "execution_count": 39,
   "id": "grave-explanation",
   "metadata": {},
   "outputs": [
    {
     "data": {
      "image/png": "[encoded data removed]",
      "text/plain": [
       "<Figure size 432x288 with 1 Axes>"
      ]
     },
     "metadata": {
      "needs_background": "light"
     },
     "output_type": "display_data"
    }
   ],
   "source": [
    "from sklearn.metrics.pairwise import euclidean_distances\n",
    "X = z_what_pres.detach().cpu().numpy()\n",
    "dist_mat = euclidean_distances(X, X)\n",
    "\n",
    "fig, ax  = plt.subplots(1, 1)\n",
    "ax.imshow(dist_mat)\n",
    "plt.show()"
   ]
  },
  {
   "cell_type": "code",
   "execution_count": null,
   "id": "thermal-speaking",
   "metadata": {},
   "outputs": [],
   "source": []
  }
 ],
 "metadata": {
  "kernelspec": {
   "display_name": "Python 3",
   "language": "python",
   "name": "python3"
  },
  "language_info": {
   "codemirror_mode": {
    "name": "ipython",
    "version": 3
   },
   "file_extension": ".py",
   "mimetype": "text/x-python",
   "name": "python",
   "nbconvert_exporter": "python",
   "pygments_lexer": "ipython3",
   "version": "3.6.9"
  }
 },
 "nbformat": 4,
 "nbformat_minor": 5
}
